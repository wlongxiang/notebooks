{
 "cells": [
  {
   "cell_type": "markdown",
   "metadata": {},
   "source": [
    "## goal of this notebook\n",
    " - Familiarize with tf estimator API\n",
    " - Play with airbnb open data for amsterdam"
   ]
  },
  {
   "cell_type": "code",
   "execution_count": 1,
   "metadata": {},
   "outputs": [],
   "source": [
    "import tensorflow as tf\n",
    "import pandas as pd\n",
    "import matplotlib.pyplot as plt\n",
    "import numpy as np\n",
    "%matplotlib inline"
   ]
  },
  {
   "cell_type": "code",
   "execution_count": 2,
   "metadata": {},
   "outputs": [
    {
     "name": "stdout",
     "output_type": "stream",
     "text": [
      "<class 'pandas.core.frame.DataFrame'>\n",
      "RangeIndex: 20114 entries, 0 to 20113\n",
      "Data columns (total 17 columns):\n",
      "host_is_superhost            20109 non-null object\n",
      "host_total_listings_count    20109 non-null float64\n",
      "neighbourhood_cleansed       20114 non-null object\n",
      "property_type                20114 non-null object\n",
      "room_type                    20114 non-null object\n",
      "accommodates                 20114 non-null int64\n",
      "bathrooms                    20105 non-null float64\n",
      "bedrooms                     20107 non-null float64\n",
      "beds                         20108 non-null float64\n",
      "bed_type                     20114 non-null object\n",
      "price                        20114 non-null object\n",
      "security_deposit             13802 non-null object\n",
      "cleaning_fee                 16490 non-null object\n",
      "minimum_nights               20114 non-null int64\n",
      "number_of_reviews            20114 non-null int64\n",
      "review_scores_value          17371 non-null float64\n",
      "instant_bookable             20114 non-null object\n",
      "dtypes: float64(5), int64(3), object(9)\n",
      "memory usage: 2.6+ MB\n"
     ]
    },
    {
     "data": {
      "text/html": [
       "<div>\n",
       "<style scoped>\n",
       "    .dataframe tbody tr th:only-of-type {\n",
       "        vertical-align: middle;\n",
       "    }\n",
       "\n",
       "    .dataframe tbody tr th {\n",
       "        vertical-align: top;\n",
       "    }\n",
       "\n",
       "    .dataframe thead th {\n",
       "        text-align: right;\n",
       "    }\n",
       "</style>\n",
       "<table border=\"1\" class=\"dataframe\">\n",
       "  <thead>\n",
       "    <tr style=\"text-align: right;\">\n",
       "      <th></th>\n",
       "      <th>host_is_superhost</th>\n",
       "      <th>host_total_listings_count</th>\n",
       "      <th>neighbourhood_cleansed</th>\n",
       "      <th>property_type</th>\n",
       "      <th>room_type</th>\n",
       "      <th>accommodates</th>\n",
       "      <th>bathrooms</th>\n",
       "      <th>bedrooms</th>\n",
       "      <th>beds</th>\n",
       "      <th>bed_type</th>\n",
       "      <th>price</th>\n",
       "      <th>security_deposit</th>\n",
       "      <th>cleaning_fee</th>\n",
       "      <th>minimum_nights</th>\n",
       "      <th>number_of_reviews</th>\n",
       "      <th>review_scores_value</th>\n",
       "      <th>instant_bookable</th>\n",
       "    </tr>\n",
       "  </thead>\n",
       "  <tbody>\n",
       "    <tr>\n",
       "      <th>0</th>\n",
       "      <td>t</td>\n",
       "      <td>1.0</td>\n",
       "      <td>Oostelijk Havengebied - Indische Buurt</td>\n",
       "      <td>Apartment</td>\n",
       "      <td>Private room</td>\n",
       "      <td>2</td>\n",
       "      <td>1.5</td>\n",
       "      <td>1.0</td>\n",
       "      <td>2.0</td>\n",
       "      <td>Real Bed</td>\n",
       "      <td>$69.00</td>\n",
       "      <td>$100.00</td>\n",
       "      <td>$40.00</td>\n",
       "      <td>3</td>\n",
       "      <td>237</td>\n",
       "      <td>10.0</td>\n",
       "      <td>t</td>\n",
       "    </tr>\n",
       "    <tr>\n",
       "      <th>1</th>\n",
       "      <td>f</td>\n",
       "      <td>1.0</td>\n",
       "      <td>Westerpark</td>\n",
       "      <td>Apartment</td>\n",
       "      <td>Entire home/apt</td>\n",
       "      <td>5</td>\n",
       "      <td>1.0</td>\n",
       "      <td>2.0</td>\n",
       "      <td>2.0</td>\n",
       "      <td>Real Bed</td>\n",
       "      <td>$160.00</td>\n",
       "      <td>$300.00</td>\n",
       "      <td>$40.00</td>\n",
       "      <td>2</td>\n",
       "      <td>40</td>\n",
       "      <td>9.0</td>\n",
       "      <td>f</td>\n",
       "    </tr>\n",
       "    <tr>\n",
       "      <th>2</th>\n",
       "      <td>f</td>\n",
       "      <td>2.0</td>\n",
       "      <td>Centrum-Oost</td>\n",
       "      <td>Townhouse</td>\n",
       "      <td>Private room</td>\n",
       "      <td>2</td>\n",
       "      <td>1.0</td>\n",
       "      <td>1.0</td>\n",
       "      <td>1.0</td>\n",
       "      <td>Real Bed</td>\n",
       "      <td>$80.00</td>\n",
       "      <td>NaN</td>\n",
       "      <td>NaN</td>\n",
       "      <td>1</td>\n",
       "      <td>215</td>\n",
       "      <td>9.0</td>\n",
       "      <td>f</td>\n",
       "    </tr>\n",
       "    <tr>\n",
       "      <th>3</th>\n",
       "      <td>f</td>\n",
       "      <td>2.0</td>\n",
       "      <td>Centrum-West</td>\n",
       "      <td>Apartment</td>\n",
       "      <td>Entire home/apt</td>\n",
       "      <td>3</td>\n",
       "      <td>1.0</td>\n",
       "      <td>1.0</td>\n",
       "      <td>1.0</td>\n",
       "      <td>Real Bed</td>\n",
       "      <td>$125.00</td>\n",
       "      <td>$300.00</td>\n",
       "      <td>$40.00</td>\n",
       "      <td>14</td>\n",
       "      <td>1</td>\n",
       "      <td>10.0</td>\n",
       "      <td>f</td>\n",
       "    </tr>\n",
       "    <tr>\n",
       "      <th>4</th>\n",
       "      <td>t</td>\n",
       "      <td>1.0</td>\n",
       "      <td>Centrum-West</td>\n",
       "      <td>Apartment</td>\n",
       "      <td>Private room</td>\n",
       "      <td>2</td>\n",
       "      <td>1.0</td>\n",
       "      <td>1.0</td>\n",
       "      <td>1.0</td>\n",
       "      <td>Real Bed</td>\n",
       "      <td>$150.00</td>\n",
       "      <td>$0.00</td>\n",
       "      <td>$0.00</td>\n",
       "      <td>2</td>\n",
       "      <td>154</td>\n",
       "      <td>10.0</td>\n",
       "      <td>t</td>\n",
       "    </tr>\n",
       "  </tbody>\n",
       "</table>\n",
       "</div>"
      ],
      "text/plain": [
       "  host_is_superhost  host_total_listings_count  \\\n",
       "0                 t                        1.0   \n",
       "1                 f                        1.0   \n",
       "2                 f                        2.0   \n",
       "3                 f                        2.0   \n",
       "4                 t                        1.0   \n",
       "\n",
       "                   neighbourhood_cleansed property_type        room_type  \\\n",
       "0  Oostelijk Havengebied - Indische Buurt     Apartment     Private room   \n",
       "1                              Westerpark     Apartment  Entire home/apt   \n",
       "2                            Centrum-Oost     Townhouse     Private room   \n",
       "3                            Centrum-West     Apartment  Entire home/apt   \n",
       "4                            Centrum-West     Apartment     Private room   \n",
       "\n",
       "   accommodates  bathrooms  bedrooms  beds  bed_type    price  \\\n",
       "0             2        1.5       1.0   2.0  Real Bed   $69.00   \n",
       "1             5        1.0       2.0   2.0  Real Bed  $160.00   \n",
       "2             2        1.0       1.0   1.0  Real Bed   $80.00   \n",
       "3             3        1.0       1.0   1.0  Real Bed  $125.00   \n",
       "4             2        1.0       1.0   1.0  Real Bed  $150.00   \n",
       "\n",
       "  security_deposit cleaning_fee  minimum_nights  number_of_reviews  \\\n",
       "0          $100.00       $40.00               3                237   \n",
       "1          $300.00       $40.00               2                 40   \n",
       "2              NaN          NaN               1                215   \n",
       "3          $300.00       $40.00              14                  1   \n",
       "4            $0.00        $0.00               2                154   \n",
       "\n",
       "   review_scores_value instant_bookable  \n",
       "0                 10.0                t  \n",
       "1                  9.0                f  \n",
       "2                  9.0                f  \n",
       "3                 10.0                f  \n",
       "4                 10.0                t  "
      ]
     },
     "execution_count": 2,
     "metadata": {},
     "output_type": "execute_result"
    }
   ],
   "source": [
    "used_features = ['property_type','room_type','bathrooms','bedrooms','beds','bed_type','accommodates','host_total_listings_count'\n",
    "                ,'number_of_reviews','review_scores_value','neighbourhood_cleansed','cleaning_fee','minimum_nights','security_deposit','host_is_superhost',\n",
    "                 'instant_bookable', 'price']\n",
    "\n",
    "amsterdam = pd.read_csv('data/amsterdam-listings.csv', usecols = used_features)\n",
    "amsterdam.info()\n",
    "amsterdam.head()"
   ]
  },
  {
   "cell_type": "code",
   "execution_count": 3,
   "metadata": {},
   "outputs": [],
   "source": [
    "dollar_columns = [\"cleaning_fee\",\"security_deposit\",\"price\"]\n",
    "# clearning the dollar sign and string to float, and fill the na with median value of that column\n",
    "for feature in dollar_columns:\n",
    "    amsterdam[feature] = amsterdam[feature].map(lambda x:x.replace(\"$\",'').replace(\",\",''),na_action = 'ignore')\n",
    "    amsterdam[feature] = amsterdam[feature].astype(float)\n",
    "    amsterdam[feature].fillna(amsterdam[feature].median(),inplace = True)"
   ]
  },
  {
   "cell_type": "code",
   "execution_count": 4,
   "metadata": {},
   "outputs": [],
   "source": [
    "# convert t to 0, f to 1\n",
    "binary_columns = [\"host_is_superhost\", \"instant_bookable\"]\n",
    "for feature in binary_columns:\n",
    "    amsterdam[feature] = amsterdam[feature].map(lambda x: x==\"t\",na_action = 'ignore')\n",
    "    amsterdam[feature] = amsterdam[feature].fillna(0)\n",
    "    amsterdam[feature] = amsterdam[feature].astype(int)"
   ]
  },
  {
   "cell_type": "code",
   "execution_count": 5,
   "metadata": {},
   "outputs": [
    {
     "data": {
      "text/plain": [
       "host_is_superhost                                  0\n",
       "host_total_listings_count                          1\n",
       "neighbourhood_cleansed       De Pijp - Rivierenbuurt\n",
       "property_type                              Apartment\n",
       "room_type                            Entire home/apt\n",
       "accommodates                                       4\n",
       "bathrooms                                          1\n",
       "bedrooms                                           1\n",
       "beds                                               1\n",
       "bed_type                                    Real Bed\n",
       "price                                           8000\n",
       "security_deposit                                  80\n",
       "cleaning_fee                                      15\n",
       "minimum_nights                                    30\n",
       "number_of_reviews                                  8\n",
       "review_scores_value                                8\n",
       "instant_bookable                                   0\n",
       "Name: 131, dtype: object"
      ]
     },
     "execution_count": 5,
     "metadata": {},
     "output_type": "execute_result"
    }
   ],
   "source": [
    "amsterdam[\"price\"].sort_values(ascending=False)\n",
    "amsterdam.loc[131]"
   ]
  },
  {
   "cell_type": "code",
   "execution_count": 6,
   "metadata": {},
   "outputs": [],
   "source": [
    "# fillna for the numerical values\n",
    "for feature in [\"bathrooms\",\"bedrooms\",\"beds\",\"review_scores_value\", \"host_total_listings_count\"]:\n",
    "    amsterdam[feature].fillna(amsterdam[feature].median(),inplace = True)\n",
    "    \n",
    "amsterdam['property_type'].fillna('Apartment',inplace = True)"
   ]
  },
  {
   "cell_type": "code",
   "execution_count": 7,
   "metadata": {},
   "outputs": [
    {
     "data": {
      "image/png": "[encoded data removed]",
      "text/plain": [
       "<matplotlib.figure.Figure at 0x10dc48898>"
      ]
     },
     "metadata": {},
     "output_type": "display_data"
    }
   ],
   "source": [
    "ax = amsterdam[dollar_columns].hist(grid = True)\n",
    "plt.title(\"Price histogram before subsetting and log-transformation\");"
   ]
  },
  {
   "cell_type": "code",
   "execution_count": 8,
   "metadata": {},
   "outputs": [
    {
     "data": {
      "image/png": "[encoded data removed]",
      "text/plain": [
       "<matplotlib.figure.Figure at 0x18219be5f8>"
      ]
     },
     "metadata": {},
     "output_type": "display_data"
    }
   ],
   "source": [
    "# the price is has a positive long tail since skew is huge\n",
    "amsterdam = amsterdam[(amsterdam[\"price\"]>30)&(amsterdam[\"price\"]<800)]\n",
    "logged_target = np.log(amsterdam[\"price\"])\n",
    "logged_target.hist()\n",
    "plt.title(\"Price distribution after the subsetting and log-transformation\");"
   ]
  },
  {
   "cell_type": "code",
   "execution_count": 9,
   "metadata": {},
   "outputs": [],
   "source": [
    "features = amsterdam.drop('price',axis=1)\n",
    "features.head()\n",
    "from sklearn.model_selection import train_test_split\n",
    "X_train, X_test, y_train, y_test = train_test_split(\n",
    "     features, logged_target, test_size=0.33, random_state=42)"
   ]
  },
  {
   "cell_type": "code",
   "execution_count": 10,
   "metadata": {},
   "outputs": [],
   "source": [
    "# Get all the numeric feature names\n",
    "numeric_columns = ['host_total_listings_count','accommodates','bathrooms','bedrooms','beds',\n",
    " 'security_deposit','cleaning_fee','minimum_nights','number_of_reviews',\n",
    " 'review_scores_value']\n",
    "# Get all the categorical feature names that contains strings\n",
    "categorical_columns = ['host_is_superhost','neighbourhood_cleansed','property_type','room_type','bed_type','instant_bookable']\n",
    "\n",
    "numeric_features = [tf.feature_column.numeric_column(key = col) for col in numeric_columns]"
   ]
  },
  {
   "cell_type": "code",
   "execution_count": 11,
   "metadata": {},
   "outputs": [],
   "source": [
    "categorical_features = [tf.feature_column.categorical_column_with_vocabulary_list(key = x,\n",
    "                                                                          vocabulary_list = amsterdam[x].value_counts().keys()\n",
    "                                                                          ) for x in categorical_columns]"
   ]
  },
  {
   "cell_type": "code",
   "execution_count": 12,
   "metadata": {},
   "outputs": [],
   "source": [
    "linear_features = numeric_features + categorical_features"
   ]
  },
  {
   "cell_type": "code",
   "execution_count": 13,
   "metadata": {},
   "outputs": [],
   "source": [
    "# Create training input function\n",
    "training_input_fn = tf.estimator.inputs.pandas_input_fn(x = X_train,\n",
    "                                                        y=y_train,\n",
    "                                                        batch_size=32,\n",
    "                                                        shuffle= True,\n",
    "                                                        num_epochs = None)\n",
    "# create testing input function\n",
    "eval_input_fn = tf.estimator.inputs.pandas_input_fn(x=X_test,\n",
    "                                                    y=y_test,\n",
    "                                                    batch_size=32,\n",
    "                                                    shuffle=False,\n",
    "                                                    num_epochs = 1)"
   ]
  },
  {
   "cell_type": "code",
   "execution_count": 14,
   "metadata": {},
   "outputs": [
    {
     "name": "stdout",
     "output_type": "stream",
     "text": [
      "INFO:tensorflow:Using default config.\n",
      "INFO:tensorflow:Using config: {'_model_dir': 'linear_regressor', '_tf_random_seed': None, '_save_summary_steps': 100, '_save_checkpoints_steps': None, '_save_checkpoints_secs': 600, '_session_config': None, '_keep_checkpoint_max': 5, '_keep_checkpoint_every_n_hours': 10000, '_log_step_count_steps': 100, '_train_distribute': None, '_service': None, '_cluster_spec': <tensorflow.python.training.server_lib.ClusterSpec object at 0x1a22cb2a90>, '_task_type': 'worker', '_task_id': 0, '_global_id_in_cluster': 0, '_master': '', '_evaluation_master': '', '_is_chief': True, '_num_ps_replicas': 0, '_num_worker_replicas': 1}\n",
      "INFO:tensorflow:Calling model_fn.\n",
      "INFO:tensorflow:Done calling model_fn.\n",
      "INFO:tensorflow:Create CheckpointSaverHook.\n",
      "INFO:tensorflow:Graph was finalized.\n",
      "INFO:tensorflow:Restoring parameters from linear_regressor/model.ckpt-2000\n",
      "INFO:tensorflow:Running local_init_op.\n",
      "INFO:tensorflow:Done running local_init_op.\n",
      "INFO:tensorflow:Saving checkpoints for 2001 into linear_regressor/model.ckpt.\n",
      "INFO:tensorflow:loss = 11.460515, step = 2001\n",
      "INFO:tensorflow:global_step/sec: 153.511\n",
      "INFO:tensorflow:loss = 5.0241523, step = 2101 (0.652 sec)\n",
      "INFO:tensorflow:global_step/sec: 299.68\n",
      "INFO:tensorflow:loss = 4.6266856, step = 2201 (0.338 sec)\n",
      "INFO:tensorflow:global_step/sec: 351.656\n",
      "INFO:tensorflow:loss = 7.912857, step = 2301 (0.283 sec)\n",
      "INFO:tensorflow:global_step/sec: 331.398\n",
      "INFO:tensorflow:loss = 5.106872, step = 2401 (0.301 sec)\n",
      "INFO:tensorflow:global_step/sec: 326.158\n",
      "INFO:tensorflow:loss = 3.0002623, step = 2501 (0.308 sec)\n",
      "INFO:tensorflow:global_step/sec: 349.943\n",
      "INFO:tensorflow:loss = 3.826254, step = 2601 (0.283 sec)\n",
      "INFO:tensorflow:global_step/sec: 270.427\n",
      "INFO:tensorflow:loss = 2.5221167, step = 2701 (0.371 sec)\n",
      "INFO:tensorflow:global_step/sec: 379.556\n",
      "INFO:tensorflow:loss = 1.9990292, step = 2801 (0.262 sec)\n",
      "INFO:tensorflow:global_step/sec: 269.126\n",
      "INFO:tensorflow:loss = 3.9945006, step = 2901 (0.373 sec)\n",
      "INFO:tensorflow:global_step/sec: 323.511\n",
      "INFO:tensorflow:loss = 5.551184, step = 3001 (0.308 sec)\n",
      "INFO:tensorflow:global_step/sec: 363.182\n",
      "INFO:tensorflow:loss = 7.0115705, step = 3101 (0.277 sec)\n",
      "INFO:tensorflow:global_step/sec: 332.727\n",
      "INFO:tensorflow:loss = 6.088723, step = 3201 (0.300 sec)\n",
      "INFO:tensorflow:global_step/sec: 368.209\n",
      "INFO:tensorflow:loss = 4.090228, step = 3301 (0.270 sec)\n",
      "INFO:tensorflow:global_step/sec: 341.617\n",
      "INFO:tensorflow:loss = 3.9091368, step = 3401 (0.295 sec)\n",
      "INFO:tensorflow:global_step/sec: 335.317\n",
      "INFO:tensorflow:loss = 4.883801, step = 3501 (0.297 sec)\n",
      "INFO:tensorflow:global_step/sec: 260.549\n",
      "INFO:tensorflow:loss = 4.016868, step = 3601 (0.383 sec)\n",
      "INFO:tensorflow:global_step/sec: 310.146\n",
      "INFO:tensorflow:loss = 5.513114, step = 3701 (0.324 sec)\n",
      "INFO:tensorflow:global_step/sec: 343.886\n",
      "INFO:tensorflow:loss = 4.907691, step = 3801 (0.290 sec)\n",
      "INFO:tensorflow:global_step/sec: 308.518\n",
      "INFO:tensorflow:loss = 5.6670933, step = 3901 (0.323 sec)\n",
      "INFO:tensorflow:Saving checkpoints for 4000 into linear_regressor/model.ckpt.\n",
      "INFO:tensorflow:Loss for final step: 3.4364119.\n"
     ]
    },
    {
     "data": {
      "text/plain": [
       "<tensorflow.python.estimator.canned.linear.LinearRegressor at 0x1821773a58>"
      ]
     },
     "execution_count": 14,
     "metadata": {},
     "output_type": "execute_result"
    }
   ],
   "source": [
    "linear_regressor = tf.estimator.LinearRegressor(feature_columns=linear_features,\n",
    "                                                model_dir = \"linear_regressor\")\n",
    "linear_regressor.train(input_fn = training_input_fn,steps=2000)\n"
   ]
  },
  {
   "cell_type": "code",
   "execution_count": 15,
   "metadata": {},
   "outputs": [
    {
     "name": "stdout",
     "output_type": "stream",
     "text": [
      "INFO:tensorflow:Calling model_fn.\n",
      "INFO:tensorflow:Done calling model_fn.\n",
      "INFO:tensorflow:Starting evaluation at 2018-08-16-22:14:14\n",
      "INFO:tensorflow:Graph was finalized.\n",
      "INFO:tensorflow:Restoring parameters from linear_regressor/model.ckpt-4000\n",
      "INFO:tensorflow:Running local_init_op.\n",
      "INFO:tensorflow:Done running local_init_op.\n",
      "INFO:tensorflow:Finished evaluation at 2018-08-16-22:14:15\n",
      "INFO:tensorflow:Saving dict for global step 4000: average_loss = 0.12767285, global_step = 4000, loss = 4.0719624\n"
     ]
    },
    {
     "data": {
      "text/plain": [
       "{'average_loss': 0.12767285, 'global_step': 4000, 'loss': 4.0719624}"
      ]
     },
     "execution_count": 15,
     "metadata": {},
     "output_type": "execute_result"
    }
   ],
   "source": [
    "linear_regressor.evaluate(input_fn = eval_input_fn)"
   ]
  },
  {
   "cell_type": "code",
   "execution_count": 16,
   "metadata": {},
   "outputs": [
    {
     "name": "stdout",
     "output_type": "stream",
     "text": [
      "INFO:tensorflow:Calling model_fn.\n",
      "INFO:tensorflow:Done calling model_fn.\n",
      "INFO:tensorflow:Graph was finalized.\n",
      "INFO:tensorflow:Restoring parameters from linear_regressor/model.ckpt-4000\n",
      "INFO:tensorflow:Running local_init_op.\n",
      "INFO:tensorflow:Done running local_init_op.\n",
      "[ 96.76826  199.31635  167.77414  ... 122.042625 116.24911   57.821747]\n"
     ]
    },
    {
     "data": {
      "text/plain": [
       "array([[ 0.36881417],\n",
       "       [ 0.39319193],\n",
       "       [ 0.5925674 ],\n",
       "       [ 0.54712933],\n",
       "       [ 0.36891752],\n",
       "       [ 0.36830422],\n",
       "       [ 0.3117167 ],\n",
       "       [ 0.24137065],\n",
       "       [ 0.25905332],\n",
       "       [ 0.24081376],\n",
       "       [ 0.19947346],\n",
       "       [ 0.17978892],\n",
       "       [ 0.1639481 ],\n",
       "       [ 0.11061545],\n",
       "       [ 0.05687611],\n",
       "       [ 0.25237444],\n",
       "       [ 0.17048584],\n",
       "       [ 0.10985601],\n",
       "       [ 0.19042799],\n",
       "       [ 0.06419258],\n",
       "       [ 0.06835458],\n",
       "       [-0.01899394]], dtype=float32)"
      ]
     },
     "execution_count": 16,
     "metadata": {},
     "output_type": "execute_result"
    }
   ],
   "source": [
    "pred = list(linear_regressor.predict(input_fn = eval_input_fn))\n",
    "pred = [p['predictions'][0] for p in pred]\n",
    "prices = np.exp(pred)\n",
    "print(prices)\n",
    "linear_regressor.get_variable_value('linear/linear_model/neighbourhood_cleansed/weights')"
   ]
  },
  {
   "cell_type": "code",
   "execution_count": 17,
   "metadata": {},
   "outputs": [
    {
     "data": {
      "text/plain": [
       "<matplotlib.axes._subplots.AxesSubplot at 0x1a239d6dd8>"
      ]
     },
     "execution_count": 17,
     "metadata": {},
     "output_type": "execute_result"
    },
    {
     "data": {
      "image/png": "[encoded data removed]",
      "text/plain": [
       "<matplotlib.figure.Figure at 0x1a233467f0>"
      ]
     },
     "metadata": {},
     "output_type": "display_data"
    }
   ],
   "source": [
    "property_weights = linear_regressor.get_variable_value('linear/linear_model/neighbourhood_cleansed/weights').flatten()\n",
    "property_keys = amsterdam[\"neighbourhood_cleansed\"].value_counts().keys()\n",
    "pd.DataFrame({\"Weights\":property_weights},index=property_keys).sort_values(\"Weights\",ascending=True).plot(kind=\"barh\", \n",
    "                                                                                                          figsize= (8,7), \n",
    "                                                                                                          grid = False\n",
    "                                                                                                         )"
   ]
  },
  {
   "cell_type": "markdown",
   "metadata": {},
   "source": [
    "the above plot also confirm with the niceness level of these neighborhoods"
   ]
  }
 ],
 "metadata": {
  "kernelspec": {
   "display_name": "Python 3",
   "language": "python",
   "name": "python3"
  },
  "language_info": {
   "codemirror_mode": {
    "name": "ipython",
    "version": 3
   },
   "file_extension": ".py",
   "mimetype": "text/x-python",
   "name": "python",
   "nbconvert_exporter": "python",
   "pygments_lexer": "ipython3",
   "version": "3.6.4"
  }
 },
 "nbformat": 4,
 "nbformat_minor": 2
}
